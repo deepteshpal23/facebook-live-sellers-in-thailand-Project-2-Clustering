{
 "cells": [
  {
   "cell_type": "code",
   "execution_count": 1,
   "id": "5fee77c2-01a6-49c7-b443-9c6c9c4c1f5c",
   "metadata": {},
   "outputs": [
    {
     "data": {
      "text/plain": [
       "'\\nTitle: Understanding Consumer Engagement Patterns on Facebook for Thai Fashion and Cosmetics Retailers\\n\\nIntroduction-\\nSocial media platforms have emerged as powerful tools for businesses to connect with their target audience. \\nFacebook, with its vast user base, has become a central platform for various industries, including fashion and cosmetics.\\nTo effectively leverage this platform, understanding consumer engagement patterns is crucial. This study focuses on analyzing \\nthe engagement metrics of 10 Thai fashion and cosmetics retailers on Facebook to identify trends, patterns, and factors influencing \\nconsumer interaction.\\n\\nProblem Statement-\\nDespite the increasing importance of social media for businesses, there is a limited understanding of consumer engagement patterns on \\nplatforms like Facebook, particularly within the Thai fashion and cosmetics industry. This study aims to address this gap by examining \\nthe factors influencing consumer engagement with Facebook posts and identifying opportunities for businesses to enhance their social media strategies.\\n\\nObjectives-\\n1. To analyze consumer engagement metrics for Facebook posts of Thai fashion and cosmetics retailers.\\n2. To identify clusters of posts based on engagement patterns using unsupervised machine learning techniques.\\n3. To examine the impact of Facebook Live on engagement variability.\\n4. To analyze seasonal patterns in engagement metrics.\\n5. To identify outlier posts and understand their characteristics.\\n\\nKey Tasks-\\n1. Data Collection and Preprocessing: Gather and clean the dataset containing Facebook post information and engagement metrics.\\n2. Exploratory Data Analysis: Conduct an in-depth analysis of the dataset to understand data distribution, identify outliers, and \\nvisualize relationships between variables.\\n3. Clustering: Apply K-means and Agglomerative clustering algorithms to group similar posts based on engagement metrics.\\n4. Principal Component Analysis (PCA): Reduce data dimensionality and identify underlying patterns in engagement.\\n5. Time Series Analysis: Analyze engagement metrics as time series data to identify seasonal trends.\\n6. Outlier Analysis: Identify and analyze outlier posts to understand their unique characteristics.\\n\\nData Description\\nThe dataset consists of 7051 Facebook posts from 10 Thai fashion and cosmetics retailers. Each post is represented by 11 features, \\nincluding post type (video, photo, status, or link), publication date, and various engagement metrics such as number of reactions \\n(likes, loves, wows, hahas), comments, and shares. The dataset is multivariate and contains no missing values.\\n'"
      ]
     },
     "execution_count": 1,
     "metadata": {},
     "output_type": "execute_result"
    }
   ],
   "source": [
    "'''\n",
    "Title: Understanding Consumer Engagement Patterns on Facebook for Thai Fashion and Cosmetics Retailers\n",
    "\n",
    "Introduction-\n",
    "Social media platforms have emerged as powerful tools for businesses to connect with their target audience. \n",
    "Facebook, with its vast user base, has become a central platform for various industries, including fashion and cosmetics.\n",
    "To effectively leverage this platform, understanding consumer engagement patterns is crucial. This study focuses on analyzing \n",
    "the engagement metrics of 10 Thai fashion and cosmetics retailers on Facebook to identify trends, patterns, and factors influencing \n",
    "consumer interaction.\n",
    "\n",
    "Problem Statement-\n",
    "Despite the increasing importance of social media for businesses, there is a limited understanding of consumer engagement patterns on \n",
    "platforms like Facebook, particularly within the Thai fashion and cosmetics industry. This study aims to address this gap by examining \n",
    "the factors influencing consumer engagement with Facebook posts and identifying opportunities for businesses to enhance their social media strategies.\n",
    "\n",
    "Objectives-\n",
    "1. To analyze consumer engagement metrics for Facebook posts of Thai fashion and cosmetics retailers.\n",
    "2. To identify clusters of posts based on engagement patterns using unsupervised machine learning techniques.\n",
    "3. To examine the impact of Facebook Live on engagement variability.\n",
    "4. To analyze seasonal patterns in engagement metrics.\n",
    "5. To identify outlier posts and understand their characteristics.\n",
    "\n",
    "Key Tasks-\n",
    "1. Data Collection and Preprocessing: Gather and clean the dataset containing Facebook post information and engagement metrics.\n",
    "2. Exploratory Data Analysis: Conduct an in-depth analysis of the dataset to understand data distribution, identify outliers, and \n",
    "visualize relationships between variables.\n",
    "3. Clustering: Apply K-means and Agglomerative clustering algorithms to group similar posts based on engagement metrics.\n",
    "4. Principal Component Analysis (PCA): Reduce data dimensionality and identify underlying patterns in engagement.\n",
    "5. Time Series Analysis: Analyze engagement metrics as time series data to identify seasonal trends.\n",
    "6. Outlier Analysis: Identify and analyze outlier posts to understand their unique characteristics.\n",
    "\n",
    "Data Description\n",
    "The dataset consists of 7051 Facebook posts from 10 Thai fashion and cosmetics retailers. Each post is represented by 11 features, \n",
    "including post type (video, photo, status, or link), publication date, and various engagement metrics such as number of reactions \n",
    "(likes, loves, wows, hahas), comments, and shares. The dataset is multivariate and contains no missing values.\n",
    "status_id (ID) - Integer\n",
    "status_type (Feature) - Categorical\n",
    "status_published (Feature) - Categorical\n",
    "num_reactions (Feature) - Integer\n",
    "num_comments (Feature) - Integer\n",
    "num_shares (Feature) - Binary\n",
    "num_likes (Feature) - Integer\n",
    "num_loves (Feature) - Binary\n",
    "num_wows (Feature) - Binary\n",
    "num_hahas (Feature) - Binary\n",
    "\n",
    "'''"
   ]
  },
  {
   "cell_type": "code",
   "execution_count": 183,
   "id": "153a3004-08bc-4159-b86e-966af388342c",
   "metadata": {},
   "outputs": [],
   "source": [
    "#Import Pandas library for data manipulation.\n",
    "import pandas as pd"
   ]
  },
  {
   "cell_type": "code",
   "execution_count": 184,
   "id": "f9ab6e95-25f5-4fbf-bff1-81382b24c997",
   "metadata": {},
   "outputs": [],
   "source": [
    "#Load CSV data into Pandas DataFrame\n",
    "df = pd.read_csv(\"C://Users//user//Desktop//Live_20210128.csv\")"
   ]
  },
  {
   "cell_type": "code",
   "execution_count": 185,
   "id": "3491299d-c866-4545-9f62-32fc7ec1a558",
   "metadata": {},
   "outputs": [
    {
     "data": {
      "text/html": [
       "<div>\n",
       "<style scoped>\n",
       "    .dataframe tbody tr th:only-of-type {\n",
       "        vertical-align: middle;\n",
       "    }\n",
       "\n",
       "    .dataframe tbody tr th {\n",
       "        vertical-align: top;\n",
       "    }\n",
       "\n",
       "    .dataframe thead th {\n",
       "        text-align: right;\n",
       "    }\n",
       "</style>\n",
       "<table border=\"1\" class=\"dataframe\">\n",
       "  <thead>\n",
       "    <tr style=\"text-align: right;\">\n",
       "      <th></th>\n",
       "      <th>status_id</th>\n",
       "      <th>status_type</th>\n",
       "      <th>status_published</th>\n",
       "      <th>num_reactions</th>\n",
       "      <th>num_comments</th>\n",
       "      <th>num_shares</th>\n",
       "      <th>num_likes</th>\n",
       "      <th>num_loves</th>\n",
       "      <th>num_wows</th>\n",
       "      <th>num_hahas</th>\n",
       "      <th>num_sads</th>\n",
       "      <th>num_angrys</th>\n",
       "      <th>Column1</th>\n",
       "      <th>Column2</th>\n",
       "      <th>Column3</th>\n",
       "      <th>Column4</th>\n",
       "    </tr>\n",
       "  </thead>\n",
       "  <tbody>\n",
       "    <tr>\n",
       "      <th>0</th>\n",
       "      <td>1</td>\n",
       "      <td>video</td>\n",
       "      <td>4/22/2018 6:00</td>\n",
       "      <td>529</td>\n",
       "      <td>512</td>\n",
       "      <td>262</td>\n",
       "      <td>432</td>\n",
       "      <td>92</td>\n",
       "      <td>3</td>\n",
       "      <td>1</td>\n",
       "      <td>1</td>\n",
       "      <td>0</td>\n",
       "      <td>NaN</td>\n",
       "      <td>NaN</td>\n",
       "      <td>NaN</td>\n",
       "      <td>NaN</td>\n",
       "    </tr>\n",
       "    <tr>\n",
       "      <th>1</th>\n",
       "      <td>2</td>\n",
       "      <td>photo</td>\n",
       "      <td>4/21/2018 22:45</td>\n",
       "      <td>150</td>\n",
       "      <td>0</td>\n",
       "      <td>0</td>\n",
       "      <td>150</td>\n",
       "      <td>0</td>\n",
       "      <td>0</td>\n",
       "      <td>0</td>\n",
       "      <td>0</td>\n",
       "      <td>0</td>\n",
       "      <td>NaN</td>\n",
       "      <td>NaN</td>\n",
       "      <td>NaN</td>\n",
       "      <td>NaN</td>\n",
       "    </tr>\n",
       "    <tr>\n",
       "      <th>2</th>\n",
       "      <td>3</td>\n",
       "      <td>video</td>\n",
       "      <td>4/21/2018 6:17</td>\n",
       "      <td>227</td>\n",
       "      <td>236</td>\n",
       "      <td>57</td>\n",
       "      <td>204</td>\n",
       "      <td>21</td>\n",
       "      <td>1</td>\n",
       "      <td>1</td>\n",
       "      <td>0</td>\n",
       "      <td>0</td>\n",
       "      <td>NaN</td>\n",
       "      <td>NaN</td>\n",
       "      <td>NaN</td>\n",
       "      <td>NaN</td>\n",
       "    </tr>\n",
       "    <tr>\n",
       "      <th>3</th>\n",
       "      <td>4</td>\n",
       "      <td>photo</td>\n",
       "      <td>4/21/2018 2:29</td>\n",
       "      <td>111</td>\n",
       "      <td>0</td>\n",
       "      <td>0</td>\n",
       "      <td>111</td>\n",
       "      <td>0</td>\n",
       "      <td>0</td>\n",
       "      <td>0</td>\n",
       "      <td>0</td>\n",
       "      <td>0</td>\n",
       "      <td>NaN</td>\n",
       "      <td>NaN</td>\n",
       "      <td>NaN</td>\n",
       "      <td>NaN</td>\n",
       "    </tr>\n",
       "    <tr>\n",
       "      <th>4</th>\n",
       "      <td>5</td>\n",
       "      <td>photo</td>\n",
       "      <td>4/18/2018 3:22</td>\n",
       "      <td>213</td>\n",
       "      <td>0</td>\n",
       "      <td>0</td>\n",
       "      <td>204</td>\n",
       "      <td>9</td>\n",
       "      <td>0</td>\n",
       "      <td>0</td>\n",
       "      <td>0</td>\n",
       "      <td>0</td>\n",
       "      <td>NaN</td>\n",
       "      <td>NaN</td>\n",
       "      <td>NaN</td>\n",
       "      <td>NaN</td>\n",
       "    </tr>\n",
       "  </tbody>\n",
       "</table>\n",
       "</div>"
      ],
      "text/plain": [
       "   status_id status_type status_published  num_reactions  num_comments  \\\n",
       "0          1       video   4/22/2018 6:00            529           512   \n",
       "1          2       photo  4/21/2018 22:45            150             0   \n",
       "2          3       video   4/21/2018 6:17            227           236   \n",
       "3          4       photo   4/21/2018 2:29            111             0   \n",
       "4          5       photo   4/18/2018 3:22            213             0   \n",
       "\n",
       "   num_shares  num_likes  num_loves  num_wows  num_hahas  num_sads  \\\n",
       "0         262        432         92         3          1         1   \n",
       "1           0        150          0         0          0         0   \n",
       "2          57        204         21         1          1         0   \n",
       "3           0        111          0         0          0         0   \n",
       "4           0        204          9         0          0         0   \n",
       "\n",
       "   num_angrys  Column1  Column2  Column3  Column4  \n",
       "0           0      NaN      NaN      NaN      NaN  \n",
       "1           0      NaN      NaN      NaN      NaN  \n",
       "2           0      NaN      NaN      NaN      NaN  \n",
       "3           0      NaN      NaN      NaN      NaN  \n",
       "4           0      NaN      NaN      NaN      NaN  "
      ]
     },
     "execution_count": 185,
     "metadata": {},
     "output_type": "execute_result"
    }
   ],
   "source": [
    "#Display first 5 rows of DataFrame to verify the correcting loading of dataset\n",
    "df.head()"
   ]
  },
  {
   "cell_type": "code",
   "execution_count": 186,
   "id": "0324c550-fc69-4ffb-b83e-7f23caad0676",
   "metadata": {},
   "outputs": [
    {
     "data": {
      "text/plain": [
       "Index(['status_id', 'status_type', 'status_published', 'num_reactions',\n",
       "       'num_comments', 'num_shares', 'num_likes', 'num_loves', 'num_wows',\n",
       "       'num_hahas', 'num_sads', 'num_angrys', 'Column1', 'Column2', 'Column3',\n",
       "       'Column4'],\n",
       "      dtype='object')"
      ]
     },
     "execution_count": 186,
     "metadata": {},
     "output_type": "execute_result"
    }
   ],
   "source": [
    "#Display DataFrame column names\n",
    "df.columns"
   ]
  },
  {
   "cell_type": "code",
   "execution_count": 187,
   "id": "b69445c6-9072-4307-8ce4-9e983ce1f407",
   "metadata": {},
   "outputs": [
    {
     "name": "stdout",
     "output_type": "stream",
     "text": [
      "<class 'pandas.core.frame.DataFrame'>\n",
      "RangeIndex: 7050 entries, 0 to 7049\n",
      "Data columns (total 16 columns):\n",
      " #   Column            Non-Null Count  Dtype  \n",
      "---  ------            --------------  -----  \n",
      " 0   status_id         7050 non-null   int64  \n",
      " 1   status_type       7050 non-null   object \n",
      " 2   status_published  7050 non-null   object \n",
      " 3   num_reactions     7050 non-null   int64  \n",
      " 4   num_comments      7050 non-null   int64  \n",
      " 5   num_shares        7050 non-null   int64  \n",
      " 6   num_likes         7050 non-null   int64  \n",
      " 7   num_loves         7050 non-null   int64  \n",
      " 8   num_wows          7050 non-null   int64  \n",
      " 9   num_hahas         7050 non-null   int64  \n",
      " 10  num_sads          7050 non-null   int64  \n",
      " 11  num_angrys        7050 non-null   int64  \n",
      " 12  Column1           0 non-null      float64\n",
      " 13  Column2           0 non-null      float64\n",
      " 14  Column3           0 non-null      float64\n",
      " 15  Column4           0 non-null      float64\n",
      "dtypes: float64(4), int64(10), object(2)\n",
      "memory usage: 881.4+ KB\n"
     ]
    }
   ],
   "source": [
    "#Checking for the data type of different columns:\n",
    "df.info()"
   ]
  },
  {
   "cell_type": "code",
   "execution_count": 188,
   "id": "9a78d083-9512-427b-af36-12ae35f7bfc7",
   "metadata": {},
   "outputs": [],
   "source": [
    "#Drop 'Column1' from DataFrame\n",
    "df.drop(['Column1'],axis=1,inplace=True)"
   ]
  },
  {
   "cell_type": "code",
   "execution_count": 189,
   "id": "01a54b9a-a760-4475-a23a-961b0ddbab55",
   "metadata": {},
   "outputs": [],
   "source": [
    "#Drop 'status_id' from DataFrame\n",
    "df.drop(['status_id'],axis=1,inplace=True)"
   ]
  },
  {
   "cell_type": "code",
   "execution_count": 190,
   "id": "4944cc0e-6d81-4939-8554-bbc3a528047e",
   "metadata": {},
   "outputs": [],
   "source": [
    "#Drop 'status_published' from DataFrame\n",
    "df.drop(['status_published'],axis=1,inplace=True)"
   ]
  },
  {
   "cell_type": "code",
   "execution_count": 191,
   "id": "733e8a85-0c68-463c-987d-aa8f0474c6fa",
   "metadata": {},
   "outputs": [],
   "source": [
    "#Drop'Column2' from DataFrame\n",
    "df.drop(['Column2'],axis=1,inplace=True)"
   ]
  },
  {
   "cell_type": "code",
   "execution_count": 192,
   "id": "6d470fe0-a83b-4a97-9a59-d8dac91566dc",
   "metadata": {},
   "outputs": [],
   "source": [
    "#Drop 'Column3' from DataFrame\n",
    "df.drop(['Column3'],axis=1,inplace=True)"
   ]
  },
  {
   "cell_type": "code",
   "execution_count": 193,
   "id": "4b6c93a9-80e3-44a3-85aa-29fe969c5e9a",
   "metadata": {},
   "outputs": [],
   "source": [
    "#Drop 'Column4' from DataFrame\n",
    "df.drop(['Column4'],axis=1,inplace=True)"
   ]
  },
  {
   "cell_type": "code",
   "execution_count": 194,
   "id": "293994c2-d9d8-411e-8305-53454ab372a7",
   "metadata": {},
   "outputs": [
    {
     "data": {
      "text/html": [
       "<div>\n",
       "<style scoped>\n",
       "    .dataframe tbody tr th:only-of-type {\n",
       "        vertical-align: middle;\n",
       "    }\n",
       "\n",
       "    .dataframe tbody tr th {\n",
       "        vertical-align: top;\n",
       "    }\n",
       "\n",
       "    .dataframe thead th {\n",
       "        text-align: right;\n",
       "    }\n",
       "</style>\n",
       "<table border=\"1\" class=\"dataframe\">\n",
       "  <thead>\n",
       "    <tr style=\"text-align: right;\">\n",
       "      <th></th>\n",
       "      <th>status_type</th>\n",
       "      <th>num_reactions</th>\n",
       "      <th>num_comments</th>\n",
       "      <th>num_shares</th>\n",
       "      <th>num_likes</th>\n",
       "      <th>num_loves</th>\n",
       "      <th>num_wows</th>\n",
       "      <th>num_hahas</th>\n",
       "      <th>num_sads</th>\n",
       "      <th>num_angrys</th>\n",
       "    </tr>\n",
       "  </thead>\n",
       "  <tbody>\n",
       "    <tr>\n",
       "      <th>0</th>\n",
       "      <td>video</td>\n",
       "      <td>529</td>\n",
       "      <td>512</td>\n",
       "      <td>262</td>\n",
       "      <td>432</td>\n",
       "      <td>92</td>\n",
       "      <td>3</td>\n",
       "      <td>1</td>\n",
       "      <td>1</td>\n",
       "      <td>0</td>\n",
       "    </tr>\n",
       "    <tr>\n",
       "      <th>1</th>\n",
       "      <td>photo</td>\n",
       "      <td>150</td>\n",
       "      <td>0</td>\n",
       "      <td>0</td>\n",
       "      <td>150</td>\n",
       "      <td>0</td>\n",
       "      <td>0</td>\n",
       "      <td>0</td>\n",
       "      <td>0</td>\n",
       "      <td>0</td>\n",
       "    </tr>\n",
       "    <tr>\n",
       "      <th>2</th>\n",
       "      <td>video</td>\n",
       "      <td>227</td>\n",
       "      <td>236</td>\n",
       "      <td>57</td>\n",
       "      <td>204</td>\n",
       "      <td>21</td>\n",
       "      <td>1</td>\n",
       "      <td>1</td>\n",
       "      <td>0</td>\n",
       "      <td>0</td>\n",
       "    </tr>\n",
       "    <tr>\n",
       "      <th>3</th>\n",
       "      <td>photo</td>\n",
       "      <td>111</td>\n",
       "      <td>0</td>\n",
       "      <td>0</td>\n",
       "      <td>111</td>\n",
       "      <td>0</td>\n",
       "      <td>0</td>\n",
       "      <td>0</td>\n",
       "      <td>0</td>\n",
       "      <td>0</td>\n",
       "    </tr>\n",
       "    <tr>\n",
       "      <th>4</th>\n",
       "      <td>photo</td>\n",
       "      <td>213</td>\n",
       "      <td>0</td>\n",
       "      <td>0</td>\n",
       "      <td>204</td>\n",
       "      <td>9</td>\n",
       "      <td>0</td>\n",
       "      <td>0</td>\n",
       "      <td>0</td>\n",
       "      <td>0</td>\n",
       "    </tr>\n",
       "  </tbody>\n",
       "</table>\n",
       "</div>"
      ],
      "text/plain": [
       "  status_type  num_reactions  num_comments  num_shares  num_likes  num_loves  \\\n",
       "0       video            529           512         262        432         92   \n",
       "1       photo            150             0           0        150          0   \n",
       "2       video            227           236          57        204         21   \n",
       "3       photo            111             0           0        111          0   \n",
       "4       photo            213             0           0        204          9   \n",
       "\n",
       "   num_wows  num_hahas  num_sads  num_angrys  \n",
       "0         3          1         1           0  \n",
       "1         0          0         0           0  \n",
       "2         1          1         0           0  \n",
       "3         0          0         0           0  \n",
       "4         0          0         0           0  "
      ]
     },
     "execution_count": 194,
     "metadata": {},
     "output_type": "execute_result"
    }
   ],
   "source": [
    "#Display first 5 rows of DataFrame to verify the correcting loading of dataset after dropping\n",
    "df.head(5)"
   ]
  },
  {
   "cell_type": "code",
   "execution_count": 195,
   "id": "80cad66a-a1f4-4584-a822-071852b3fa5f",
   "metadata": {},
   "outputs": [
    {
     "data": {
      "text/html": [
       "<div>\n",
       "<style scoped>\n",
       "    .dataframe tbody tr th:only-of-type {\n",
       "        vertical-align: middle;\n",
       "    }\n",
       "\n",
       "    .dataframe tbody tr th {\n",
       "        vertical-align: top;\n",
       "    }\n",
       "\n",
       "    .dataframe thead th {\n",
       "        text-align: right;\n",
       "    }\n",
       "</style>\n",
       "<table border=\"1\" class=\"dataframe\">\n",
       "  <thead>\n",
       "    <tr style=\"text-align: right;\">\n",
       "      <th></th>\n",
       "      <th>num_reactions</th>\n",
       "      <th>num_comments</th>\n",
       "      <th>num_shares</th>\n",
       "      <th>num_likes</th>\n",
       "      <th>num_loves</th>\n",
       "      <th>num_wows</th>\n",
       "      <th>num_hahas</th>\n",
       "      <th>num_sads</th>\n",
       "      <th>num_angrys</th>\n",
       "    </tr>\n",
       "  </thead>\n",
       "  <tbody>\n",
       "    <tr>\n",
       "      <th>count</th>\n",
       "      <td>7050.000000</td>\n",
       "      <td>7050.000000</td>\n",
       "      <td>7050.000000</td>\n",
       "      <td>7050.000000</td>\n",
       "      <td>7050.000000</td>\n",
       "      <td>7050.000000</td>\n",
       "      <td>7050.000000</td>\n",
       "      <td>7050.000000</td>\n",
       "      <td>7050.000000</td>\n",
       "    </tr>\n",
       "    <tr>\n",
       "      <th>mean</th>\n",
       "      <td>230.117163</td>\n",
       "      <td>224.356028</td>\n",
       "      <td>40.022553</td>\n",
       "      <td>215.043121</td>\n",
       "      <td>12.728652</td>\n",
       "      <td>1.289362</td>\n",
       "      <td>0.696454</td>\n",
       "      <td>0.243688</td>\n",
       "      <td>0.113191</td>\n",
       "    </tr>\n",
       "    <tr>\n",
       "      <th>std</th>\n",
       "      <td>462.625309</td>\n",
       "      <td>889.636820</td>\n",
       "      <td>131.599965</td>\n",
       "      <td>449.472357</td>\n",
       "      <td>39.972930</td>\n",
       "      <td>8.719650</td>\n",
       "      <td>3.957183</td>\n",
       "      <td>1.597156</td>\n",
       "      <td>0.726812</td>\n",
       "    </tr>\n",
       "    <tr>\n",
       "      <th>min</th>\n",
       "      <td>0.000000</td>\n",
       "      <td>0.000000</td>\n",
       "      <td>0.000000</td>\n",
       "      <td>0.000000</td>\n",
       "      <td>0.000000</td>\n",
       "      <td>0.000000</td>\n",
       "      <td>0.000000</td>\n",
       "      <td>0.000000</td>\n",
       "      <td>0.000000</td>\n",
       "    </tr>\n",
       "    <tr>\n",
       "      <th>25%</th>\n",
       "      <td>17.000000</td>\n",
       "      <td>0.000000</td>\n",
       "      <td>0.000000</td>\n",
       "      <td>17.000000</td>\n",
       "      <td>0.000000</td>\n",
       "      <td>0.000000</td>\n",
       "      <td>0.000000</td>\n",
       "      <td>0.000000</td>\n",
       "      <td>0.000000</td>\n",
       "    </tr>\n",
       "    <tr>\n",
       "      <th>50%</th>\n",
       "      <td>59.500000</td>\n",
       "      <td>4.000000</td>\n",
       "      <td>0.000000</td>\n",
       "      <td>58.000000</td>\n",
       "      <td>0.000000</td>\n",
       "      <td>0.000000</td>\n",
       "      <td>0.000000</td>\n",
       "      <td>0.000000</td>\n",
       "      <td>0.000000</td>\n",
       "    </tr>\n",
       "    <tr>\n",
       "      <th>75%</th>\n",
       "      <td>219.000000</td>\n",
       "      <td>23.000000</td>\n",
       "      <td>4.000000</td>\n",
       "      <td>184.750000</td>\n",
       "      <td>3.000000</td>\n",
       "      <td>0.000000</td>\n",
       "      <td>0.000000</td>\n",
       "      <td>0.000000</td>\n",
       "      <td>0.000000</td>\n",
       "    </tr>\n",
       "    <tr>\n",
       "      <th>max</th>\n",
       "      <td>4710.000000</td>\n",
       "      <td>20990.000000</td>\n",
       "      <td>3424.000000</td>\n",
       "      <td>4710.000000</td>\n",
       "      <td>657.000000</td>\n",
       "      <td>278.000000</td>\n",
       "      <td>157.000000</td>\n",
       "      <td>51.000000</td>\n",
       "      <td>31.000000</td>\n",
       "    </tr>\n",
       "  </tbody>\n",
       "</table>\n",
       "</div>"
      ],
      "text/plain": [
       "       num_reactions  num_comments   num_shares    num_likes    num_loves  \\\n",
       "count    7050.000000   7050.000000  7050.000000  7050.000000  7050.000000   \n",
       "mean      230.117163    224.356028    40.022553   215.043121    12.728652   \n",
       "std       462.625309    889.636820   131.599965   449.472357    39.972930   \n",
       "min         0.000000      0.000000     0.000000     0.000000     0.000000   \n",
       "25%        17.000000      0.000000     0.000000    17.000000     0.000000   \n",
       "50%        59.500000      4.000000     0.000000    58.000000     0.000000   \n",
       "75%       219.000000     23.000000     4.000000   184.750000     3.000000   \n",
       "max      4710.000000  20990.000000  3424.000000  4710.000000   657.000000   \n",
       "\n",
       "          num_wows    num_hahas     num_sads   num_angrys  \n",
       "count  7050.000000  7050.000000  7050.000000  7050.000000  \n",
       "mean      1.289362     0.696454     0.243688     0.113191  \n",
       "std       8.719650     3.957183     1.597156     0.726812  \n",
       "min       0.000000     0.000000     0.000000     0.000000  \n",
       "25%       0.000000     0.000000     0.000000     0.000000  \n",
       "50%       0.000000     0.000000     0.000000     0.000000  \n",
       "75%       0.000000     0.000000     0.000000     0.000000  \n",
       "max     278.000000   157.000000    51.000000    31.000000  "
      ]
     },
     "execution_count": 195,
     "metadata": {},
     "output_type": "execute_result"
    }
   ],
   "source": [
    "#Checking for simple descriptive statistics\n",
    "df.describe()"
   ]
  },
  {
   "cell_type": "code",
   "execution_count": 196,
   "id": "72cd5b85-cd2a-4f23-b1d4-a178885abbd8",
   "metadata": {},
   "outputs": [
    {
     "data": {
      "text/plain": [
       "status_type      0\n",
       "num_reactions    0\n",
       "num_comments     0\n",
       "num_shares       0\n",
       "num_likes        0\n",
       "num_loves        0\n",
       "num_wows         0\n",
       "num_hahas        0\n",
       "num_sads         0\n",
       "num_angrys       0\n",
       "dtype: int64"
      ]
     },
     "execution_count": 196,
     "metadata": {},
     "output_type": "execute_result"
    }
   ],
   "source": [
    "#Checking for the missing values\n",
    "df.isna().sum()"
   ]
  },
  {
   "cell_type": "code",
   "execution_count": 197,
   "id": "148c6425-0397-4dc7-b813-7f2485db2292",
   "metadata": {},
   "outputs": [],
   "source": [
    "#Imported LabelEncoder for handling categorical features\n",
    "from sklearn.preprocessing import LabelEncoder"
   ]
  },
  {
   "cell_type": "code",
   "execution_count": 198,
   "id": "859da1db-8c4e-4d50-95ab-39c38f4b5881",
   "metadata": {},
   "outputs": [],
   "source": [
    "le = LabelEncoder()"
   ]
  },
  {
   "cell_type": "code",
   "execution_count": 199,
   "id": "f07d4f54-1bc0-4e68-8948-bcbf3dcd10e4",
   "metadata": {},
   "outputs": [],
   "source": [
    "#Encoding 'status_type' column using LabelEncoder\n",
    "df['status_type']=le.fit_transform(df['status_type'])"
   ]
  },
  {
   "cell_type": "code",
   "execution_count": 200,
   "id": "a2679626-8ecb-410d-857e-2e4feaa155f4",
   "metadata": {},
   "outputs": [
    {
     "data": {
      "text/html": [
       "<div>\n",
       "<style scoped>\n",
       "    .dataframe tbody tr th:only-of-type {\n",
       "        vertical-align: middle;\n",
       "    }\n",
       "\n",
       "    .dataframe tbody tr th {\n",
       "        vertical-align: top;\n",
       "    }\n",
       "\n",
       "    .dataframe thead th {\n",
       "        text-align: right;\n",
       "    }\n",
       "</style>\n",
       "<table border=\"1\" class=\"dataframe\">\n",
       "  <thead>\n",
       "    <tr style=\"text-align: right;\">\n",
       "      <th></th>\n",
       "      <th>status_type</th>\n",
       "      <th>num_reactions</th>\n",
       "      <th>num_comments</th>\n",
       "      <th>num_shares</th>\n",
       "      <th>num_likes</th>\n",
       "      <th>num_loves</th>\n",
       "      <th>num_wows</th>\n",
       "      <th>num_hahas</th>\n",
       "      <th>num_sads</th>\n",
       "      <th>num_angrys</th>\n",
       "    </tr>\n",
       "  </thead>\n",
       "  <tbody>\n",
       "    <tr>\n",
       "      <th>0</th>\n",
       "      <td>3</td>\n",
       "      <td>529</td>\n",
       "      <td>512</td>\n",
       "      <td>262</td>\n",
       "      <td>432</td>\n",
       "      <td>92</td>\n",
       "      <td>3</td>\n",
       "      <td>1</td>\n",
       "      <td>1</td>\n",
       "      <td>0</td>\n",
       "    </tr>\n",
       "    <tr>\n",
       "      <th>1</th>\n",
       "      <td>1</td>\n",
       "      <td>150</td>\n",
       "      <td>0</td>\n",
       "      <td>0</td>\n",
       "      <td>150</td>\n",
       "      <td>0</td>\n",
       "      <td>0</td>\n",
       "      <td>0</td>\n",
       "      <td>0</td>\n",
       "      <td>0</td>\n",
       "    </tr>\n",
       "    <tr>\n",
       "      <th>2</th>\n",
       "      <td>3</td>\n",
       "      <td>227</td>\n",
       "      <td>236</td>\n",
       "      <td>57</td>\n",
       "      <td>204</td>\n",
       "      <td>21</td>\n",
       "      <td>1</td>\n",
       "      <td>1</td>\n",
       "      <td>0</td>\n",
       "      <td>0</td>\n",
       "    </tr>\n",
       "    <tr>\n",
       "      <th>3</th>\n",
       "      <td>1</td>\n",
       "      <td>111</td>\n",
       "      <td>0</td>\n",
       "      <td>0</td>\n",
       "      <td>111</td>\n",
       "      <td>0</td>\n",
       "      <td>0</td>\n",
       "      <td>0</td>\n",
       "      <td>0</td>\n",
       "      <td>0</td>\n",
       "    </tr>\n",
       "    <tr>\n",
       "      <th>4</th>\n",
       "      <td>1</td>\n",
       "      <td>213</td>\n",
       "      <td>0</td>\n",
       "      <td>0</td>\n",
       "      <td>204</td>\n",
       "      <td>9</td>\n",
       "      <td>0</td>\n",
       "      <td>0</td>\n",
       "      <td>0</td>\n",
       "      <td>0</td>\n",
       "    </tr>\n",
       "  </tbody>\n",
       "</table>\n",
       "</div>"
      ],
      "text/plain": [
       "   status_type  num_reactions  num_comments  num_shares  num_likes  num_loves  \\\n",
       "0            3            529           512         262        432         92   \n",
       "1            1            150             0           0        150          0   \n",
       "2            3            227           236          57        204         21   \n",
       "3            1            111             0           0        111          0   \n",
       "4            1            213             0           0        204          9   \n",
       "\n",
       "   num_wows  num_hahas  num_sads  num_angrys  \n",
       "0         3          1         1           0  \n",
       "1         0          0         0           0  \n",
       "2         1          1         0           0  \n",
       "3         0          0         0           0  \n",
       "4         0          0         0           0  "
      ]
     },
     "execution_count": 200,
     "metadata": {},
     "output_type": "execute_result"
    }
   ],
   "source": [
    "#Displaying the first 5 rows of the modified DataFrame\n",
    "df.head(5)"
   ]
  },
  {
   "cell_type": "code",
   "execution_count": 201,
   "id": "452f5a65-981f-43af-b687-6393d5d3222f",
   "metadata": {},
   "outputs": [
    {
     "data": {
      "text/plain": [
       "Index(['status_type', 'num_reactions', 'num_comments', 'num_shares',\n",
       "       'num_likes', 'num_loves', 'num_wows', 'num_hahas', 'num_sads',\n",
       "       'num_angrys'],\n",
       "      dtype='object')"
      ]
     },
     "execution_count": 201,
     "metadata": {},
     "output_type": "execute_result"
    }
   ],
   "source": [
    "#Displaying the column names of the DataFrame\n",
    "df.columns"
   ]
  },
  {
   "cell_type": "code",
   "execution_count": 202,
   "id": "e0b2b0d2-97f8-45a7-b61d-59b354e99cba",
   "metadata": {},
   "outputs": [],
   "source": [
    "#Importing StandardScaler for data normalization\n",
    "from sklearn.preprocessing import StandardScaler"
   ]
  },
  {
   "cell_type": "code",
   "execution_count": 203,
   "id": "a1038111-7ad7-4cf1-8d3a-33b841c17dab",
   "metadata": {},
   "outputs": [],
   "source": [
    "sc=StandardScaler()"
   ]
  },
  {
   "cell_type": "code",
   "execution_count": 204,
   "id": "53609cce-d1f5-41b7-821e-849f59bee0a3",
   "metadata": {},
   "outputs": [],
   "source": [
    "#Normalizing 'num_reactions', 'num_comments', and 'num_shares' columns\n",
    "df['num_reactions']=sc.fit_transform(df[['num_reactions']])\n",
    "df['num_comments']=sc.fit_transform(df[['num_comments']])\n",
    "df['num_shares']=sc.fit_transform(df[['num_shares']])"
   ]
  },
  {
   "cell_type": "code",
   "execution_count": 205,
   "id": "21d4240e-26e7-4cb1-8342-0e47f8ac1338",
   "metadata": {},
   "outputs": [],
   "source": [
    "#Normalizing 'num_likes', 'num_loves', and 'num_wows' columns\n",
    "df['num_likes']=sc.fit_transform(df[['num_likes']])\n",
    "df['num_loves']=sc.fit_transform(df[['num_loves']])\n",
    "df['num_wows']=sc.fit_transform(df[['num_wows']])"
   ]
  },
  {
   "cell_type": "code",
   "execution_count": 206,
   "id": "1d7cd29d-f002-4938-b533-4c2fbea79bef",
   "metadata": {},
   "outputs": [],
   "source": [
    "#Normalizing 'num_hahas' column\n",
    "df['num_hahas']=sc.fit_transform(df[['num_hahas']])"
   ]
  },
  {
   "cell_type": "code",
   "execution_count": 207,
   "id": "74c273f7-573f-47b8-874f-f226979226b5",
   "metadata": {},
   "outputs": [
    {
     "data": {
      "text/html": [
       "<div>\n",
       "<style scoped>\n",
       "    .dataframe tbody tr th:only-of-type {\n",
       "        vertical-align: middle;\n",
       "    }\n",
       "\n",
       "    .dataframe tbody tr th {\n",
       "        vertical-align: top;\n",
       "    }\n",
       "\n",
       "    .dataframe thead th {\n",
       "        text-align: right;\n",
       "    }\n",
       "</style>\n",
       "<table border=\"1\" class=\"dataframe\">\n",
       "  <thead>\n",
       "    <tr style=\"text-align: right;\">\n",
       "      <th></th>\n",
       "      <th>status_type</th>\n",
       "      <th>num_reactions</th>\n",
       "      <th>num_comments</th>\n",
       "      <th>num_shares</th>\n",
       "      <th>num_likes</th>\n",
       "      <th>num_loves</th>\n",
       "      <th>num_wows</th>\n",
       "      <th>num_hahas</th>\n",
       "      <th>num_sads</th>\n",
       "      <th>num_angrys</th>\n",
       "    </tr>\n",
       "  </thead>\n",
       "  <tbody>\n",
       "    <tr>\n",
       "      <th>0</th>\n",
       "      <td>3</td>\n",
       "      <td>0.646104</td>\n",
       "      <td>0.323350</td>\n",
       "      <td>1.686879</td>\n",
       "      <td>0.482727</td>\n",
       "      <td>1.983266</td>\n",
       "      <td>0.196196</td>\n",
       "      <td>0.076713</td>\n",
       "      <td>1</td>\n",
       "      <td>0</td>\n",
       "    </tr>\n",
       "    <tr>\n",
       "      <th>1</th>\n",
       "      <td>1</td>\n",
       "      <td>-0.173192</td>\n",
       "      <td>-0.252206</td>\n",
       "      <td>-0.304144</td>\n",
       "      <td>-0.144720</td>\n",
       "      <td>-0.318454</td>\n",
       "      <td>-0.147879</td>\n",
       "      <td>-0.176010</td>\n",
       "      <td>0</td>\n",
       "      <td>0</td>\n",
       "    </tr>\n",
       "    <tr>\n",
       "      <th>2</th>\n",
       "      <td>3</td>\n",
       "      <td>-0.006738</td>\n",
       "      <td>0.013089</td>\n",
       "      <td>0.129017</td>\n",
       "      <td>-0.024571</td>\n",
       "      <td>0.206938</td>\n",
       "      <td>-0.033187</td>\n",
       "      <td>0.076713</td>\n",
       "      <td>0</td>\n",
       "      <td>0</td>\n",
       "    </tr>\n",
       "    <tr>\n",
       "      <th>3</th>\n",
       "      <td>1</td>\n",
       "      <td>-0.257499</td>\n",
       "      <td>-0.252206</td>\n",
       "      <td>-0.304144</td>\n",
       "      <td>-0.231495</td>\n",
       "      <td>-0.318454</td>\n",
       "      <td>-0.147879</td>\n",
       "      <td>-0.176010</td>\n",
       "      <td>0</td>\n",
       "      <td>0</td>\n",
       "    </tr>\n",
       "    <tr>\n",
       "      <th>4</th>\n",
       "      <td>1</td>\n",
       "      <td>-0.037003</td>\n",
       "      <td>-0.252206</td>\n",
       "      <td>-0.304144</td>\n",
       "      <td>-0.024571</td>\n",
       "      <td>-0.093286</td>\n",
       "      <td>-0.147879</td>\n",
       "      <td>-0.176010</td>\n",
       "      <td>0</td>\n",
       "      <td>0</td>\n",
       "    </tr>\n",
       "  </tbody>\n",
       "</table>\n",
       "</div>"
      ],
      "text/plain": [
       "   status_type  num_reactions  num_comments  num_shares  num_likes  num_loves  \\\n",
       "0            3       0.646104      0.323350    1.686879   0.482727   1.983266   \n",
       "1            1      -0.173192     -0.252206   -0.304144  -0.144720  -0.318454   \n",
       "2            3      -0.006738      0.013089    0.129017  -0.024571   0.206938   \n",
       "3            1      -0.257499     -0.252206   -0.304144  -0.231495  -0.318454   \n",
       "4            1      -0.037003     -0.252206   -0.304144  -0.024571  -0.093286   \n",
       "\n",
       "   num_wows  num_hahas  num_sads  num_angrys  \n",
       "0  0.196196   0.076713         1           0  \n",
       "1 -0.147879  -0.176010         0           0  \n",
       "2 -0.033187   0.076713         0           0  \n",
       "3 -0.147879  -0.176010         0           0  \n",
       "4 -0.147879  -0.176010         0           0  "
      ]
     },
     "execution_count": 207,
     "metadata": {},
     "output_type": "execute_result"
    }
   ],
   "source": [
    "#Displaying the first 5 rows of the normalized DataFrame\n",
    "df.head()"
   ]
  },
  {
   "cell_type": "code",
   "execution_count": 208,
   "id": "8d080d0a-90e6-47b9-baa2-0b33b442c62e",
   "metadata": {},
   "outputs": [
    {
     "data": {
      "image/png": "[encoded data removed]",
      "text/plain": [
       "<Figure size 1000x1000 with 1 Axes>"
      ]
     },
     "metadata": {},
     "output_type": "display_data"
    }
   ],
   "source": [
    "#Performing Elbow Method to determine optimal number of clusters\n",
    "from sklearn.cluster import KMeans\n",
    "import matplotlib.pyplot as plt\n",
    "wcss = [] # within cluster sum of squares\n",
    "\n",
    "for k in range(1, 15):\n",
    "    kmeansForLoop = KMeans(n_clusters = k)\n",
    "    kmeansForLoop.fit(df)\n",
    "    wcss.append(kmeansForLoop.inertia_)\n",
    "\n",
    "plt.figure(figsize = (10, 10))\n",
    "plt.plot(range(1, 15), wcss)\n",
    "plt.xlabel(\"K value\")\n",
    "plt.ylabel(\"WCSS\")\n",
    "plt.show()"
   ]
  },
  {
   "cell_type": "code",
   "execution_count": 209,
   "id": "f4422bf9-7858-4a7a-af4a-442e1388f602",
   "metadata": {},
   "outputs": [
    {
     "data": {
      "image/png": "[encoded data removed]",
      "text/plain": [
       "<Figure size 640x480 with 1 Axes>"
      ]
     },
     "metadata": {},
     "output_type": "display_data"
    }
   ],
   "source": [
    "#Performing Silhouette Analysis to determine optimal number of clusters\n",
    "from sklearn.cluster import KMeans\n",
    "from sklearn.metrics import silhouette_score\n",
    "import matplotlib.pyplot as plt\n",
    "\n",
    "silhouette_scores = [] \n",
    "\n",
    "for n_cluster in range(2,15):\n",
    "    silhouette_scores.append( \n",
    "        silhouette_score(df, KMeans(n_clusters = n_cluster).fit_predict(df))) #Makesure that in exam you change the dataframe name\n",
    "    \n",
    "# Plotting a bar graph to compare the results \n",
    "k = [2, 3, 4, 5, 6,7,8,9,10,11,12,13,14] \n",
    "plt.bar(k, silhouette_scores) \n",
    "plt.xlabel('Number of clusters', fontsize = 10) \n",
    "plt.ylabel('Silhouette Score', fontsize = 10) \n",
    "plt.grid()\n",
    "plt.show() "
   ]
  },
  {
   "cell_type": "code",
   "execution_count": 210,
   "id": "6149aad7-7d80-4070-9b4e-2e1578e105d9",
   "metadata": {},
   "outputs": [],
   "source": [
    "#Creating a K-Means model with 2 clusters and fitting it to the data\n",
    "kmeans = KMeans(n_clusters = 2) # 2 because in the above bar plot, 2 is the highest height in the grph.\n",
    "clusters = kmeans.fit_predict(df)"
   ]
  },
  {
   "cell_type": "code",
   "execution_count": 211,
   "id": "27a5eb7b-0eee-4018-814b-8550d10b28cf",
   "metadata": {},
   "outputs": [
    {
     "data": {
      "text/plain": [
       "array([1, 0, 0, ..., 0, 0, 0])"
      ]
     },
     "execution_count": 211,
     "metadata": {},
     "output_type": "execute_result"
    }
   ],
   "source": [
    "#Labels of each point\n",
    "kmeans.labels_   #like feature importance, it starts from 0,so cluster 1 is 0, 1 is cluster 2 and so on"
   ]
  },
  {
   "cell_type": "code",
   "execution_count": 212,
   "id": "6c7f41a5-bd4c-43b9-add0-a22142a3c9b7",
   "metadata": {},
   "outputs": [
    {
     "data": {
      "text/plain": [
       "61718.88407065305"
      ]
     },
     "execution_count": 212,
     "metadata": {},
     "output_type": "execute_result"
    }
   ],
   "source": [
    "#Sum of squared distances of samples to their closest cluster center, weighted by the sample weights if provided\n",
    "kmeans.inertia_"
   ]
  },
  {
   "cell_type": "code",
   "execution_count": 213,
   "id": "bc672d77-1cfd-4b64-ba0c-ac04ddfe3dfa",
   "metadata": {},
   "outputs": [
    {
     "data": {
      "text/plain": [
       "array([[ 1.64220326, -0.20081585, -0.15884084, -0.16760062, -0.18919409,\n",
       "        -0.16250771, -0.08410013, -0.10354563,  0.08254461,  0.04903026],\n",
       "       [ 2.37355372,  2.13926969,  1.69211439,  1.78543137,  2.01546435,\n",
       "         1.73117713,  0.89590964,  1.10306049,  1.96033058,  0.79669421]])"
      ]
     },
     "execution_count": 213,
     "metadata": {},
     "output_type": "execute_result"
    }
   ],
   "source": [
    "#Coordinates of cluster centers\n",
    "kmeans.cluster_centers_"
   ]
  },
  {
   "cell_type": "code",
   "execution_count": 214,
   "id": "f840a101-d888-4692-897d-aecf63cc92fa",
   "metadata": {},
   "outputs": [
    {
     "data": {
      "text/plain": [
       "10"
      ]
     },
     "execution_count": 214,
     "metadata": {},
     "output_type": "execute_result"
    }
   ],
   "source": [
    "#Number of features seen during fit.\n",
    "kmeans.n_features_in_"
   ]
  },
  {
   "cell_type": "code",
   "execution_count": 215,
   "id": "4e7e820f-7fa4-497d-8fc3-917b354acd4a",
   "metadata": {},
   "outputs": [
    {
     "data": {
      "text/plain": [
       "array([1, 0, 0, ..., 0, 0, 0])"
      ]
     },
     "execution_count": 215,
     "metadata": {},
     "output_type": "execute_result"
    }
   ],
   "source": [
    "#Assigning data points to their respective clusters\n",
    "clusters"
   ]
  },
  {
   "cell_type": "code",
   "execution_count": 216,
   "id": "523f0346-beac-4d58-a3ba-56419321ef84",
   "metadata": {},
   "outputs": [],
   "source": [
    "#Adding cluster labels as a new column to the DataFrame\n",
    "df[\"Cluster\"] = clusters"
   ]
  },
  {
   "cell_type": "code",
   "execution_count": 217,
   "id": "d46f12c8-2ea1-46e3-b1c0-56a1666f8b01",
   "metadata": {},
   "outputs": [
    {
     "data": {
      "text/plain": [
       "Index(['status_type', 'num_reactions', 'num_comments', 'num_shares',\n",
       "       'num_likes', 'num_loves', 'num_wows', 'num_hahas', 'num_sads',\n",
       "       'num_angrys', 'Cluster'],\n",
       "      dtype='object')"
      ]
     },
     "execution_count": 217,
     "metadata": {},
     "output_type": "execute_result"
    }
   ],
   "source": [
    "#Displaying DataFrame column names\n",
    "df.columns"
   ]
  },
  {
   "cell_type": "code",
   "execution_count": 218,
   "id": "c9518b4e-ed7c-47ad-a75f-0fa5ba34c27e",
   "metadata": {},
   "outputs": [],
   "source": [
    "#Creating a new DataFrame with sample data\n",
    "data = [[\"link\",33,1,1,33,0,0,0,0,0]]\n",
    "new_data = pd.DataFrame(data, columns=['status_type', 'num_reactions', 'num_comments', 'num_shares','num_likes', 'num_loves', 'num_wows', 'num_hahas', 'num_sads','num_angrys'])"
   ]
  },
  {
   "cell_type": "code",
   "execution_count": 219,
   "id": "90d552ea-e5a8-47ec-a0d4-7b6f190a060e",
   "metadata": {},
   "outputs": [
    {
     "data": {
      "text/html": [
       "<div>\n",
       "<style scoped>\n",
       "    .dataframe tbody tr th:only-of-type {\n",
       "        vertical-align: middle;\n",
       "    }\n",
       "\n",
       "    .dataframe tbody tr th {\n",
       "        vertical-align: top;\n",
       "    }\n",
       "\n",
       "    .dataframe thead th {\n",
       "        text-align: right;\n",
       "    }\n",
       "</style>\n",
       "<table border=\"1\" class=\"dataframe\">\n",
       "  <thead>\n",
       "    <tr style=\"text-align: right;\">\n",
       "      <th></th>\n",
       "      <th>status_type</th>\n",
       "      <th>num_reactions</th>\n",
       "      <th>num_comments</th>\n",
       "      <th>num_shares</th>\n",
       "      <th>num_likes</th>\n",
       "      <th>num_loves</th>\n",
       "      <th>num_wows</th>\n",
       "      <th>num_hahas</th>\n",
       "      <th>num_sads</th>\n",
       "      <th>num_angrys</th>\n",
       "    </tr>\n",
       "  </thead>\n",
       "  <tbody>\n",
       "    <tr>\n",
       "      <th>0</th>\n",
       "      <td>link</td>\n",
       "      <td>33</td>\n",
       "      <td>1</td>\n",
       "      <td>1</td>\n",
       "      <td>33</td>\n",
       "      <td>0</td>\n",
       "      <td>0</td>\n",
       "      <td>0</td>\n",
       "      <td>0</td>\n",
       "      <td>0</td>\n",
       "    </tr>\n",
       "  </tbody>\n",
       "</table>\n",
       "</div>"
      ],
      "text/plain": [
       "  status_type  num_reactions  num_comments  num_shares  num_likes  num_loves  \\\n",
       "0        link             33             1           1         33          0   \n",
       "\n",
       "   num_wows  num_hahas  num_sads  num_angrys  \n",
       "0         0          0         0           0  "
      ]
     },
     "execution_count": 219,
     "metadata": {},
     "output_type": "execute_result"
    }
   ],
   "source": [
    "#Displaying the first 5 rows of the new DataFrame\n",
    "new_data.head()"
   ]
  },
  {
   "cell_type": "code",
   "execution_count": 222,
   "id": "d5853e9b-7a42-4adf-9b0b-27d8113bf94c",
   "metadata": {},
   "outputs": [],
   "source": [
    "#Preprocessing new data using LabelEncoder and StandardScaler\n",
    "new_data['status_type']=le.fit_transform(new_data['status_type'])\n",
    "new_data['num_reactions']=sc.fit_transform(new_data[['num_reactions']])\n",
    "new_data['num_comments']=sc.fit_transform(new_data[['num_comments']])\n",
    "new_data['num_shares']=sc.fit_transform(new_data[['num_shares']])\n",
    "new_data['num_likes']=le.fit_transform(new_data['num_likes'])\n",
    "new_data['num_loves']=sc.fit_transform(new_data[['num_loves']])\n",
    "new_data['num_wows']=sc.fit_transform(new_data[['num_wows']])\n",
    "new_data['num_hahas']=sc.fit_transform(new_data[['num_hahas']])\n",
    "new_data['num_sads']=le.fit_transform(new_data['num_sads'])\n",
    "new_data['num_angrys']=sc.fit_transform(new_data[['num_angrys']])"
   ]
  },
  {
   "cell_type": "code",
   "execution_count": 223,
   "id": "6dc20f06-8b74-4a97-804f-eab61ab4d7d4",
   "metadata": {},
   "outputs": [
    {
     "data": {
      "text/html": [
       "<div>\n",
       "<style scoped>\n",
       "    .dataframe tbody tr th:only-of-type {\n",
       "        vertical-align: middle;\n",
       "    }\n",
       "\n",
       "    .dataframe tbody tr th {\n",
       "        vertical-align: top;\n",
       "    }\n",
       "\n",
       "    .dataframe thead th {\n",
       "        text-align: right;\n",
       "    }\n",
       "</style>\n",
       "<table border=\"1\" class=\"dataframe\">\n",
       "  <thead>\n",
       "    <tr style=\"text-align: right;\">\n",
       "      <th></th>\n",
       "      <th>status_type</th>\n",
       "      <th>num_reactions</th>\n",
       "      <th>num_comments</th>\n",
       "      <th>num_shares</th>\n",
       "      <th>num_likes</th>\n",
       "      <th>num_loves</th>\n",
       "      <th>num_wows</th>\n",
       "      <th>num_hahas</th>\n",
       "      <th>num_sads</th>\n",
       "      <th>num_angrys</th>\n",
       "    </tr>\n",
       "  </thead>\n",
       "  <tbody>\n",
       "    <tr>\n",
       "      <th>0</th>\n",
       "      <td>0</td>\n",
       "      <td>0.0</td>\n",
       "      <td>0.0</td>\n",
       "      <td>0.0</td>\n",
       "      <td>0</td>\n",
       "      <td>0.0</td>\n",
       "      <td>0.0</td>\n",
       "      <td>0.0</td>\n",
       "      <td>0</td>\n",
       "      <td>0.0</td>\n",
       "    </tr>\n",
       "  </tbody>\n",
       "</table>\n",
       "</div>"
      ],
      "text/plain": [
       "   status_type  num_reactions  num_comments  num_shares  num_likes  num_loves  \\\n",
       "0            0            0.0           0.0         0.0          0        0.0   \n",
       "\n",
       "   num_wows  num_hahas  num_sads  num_angrys  \n",
       "0       0.0        0.0         0         0.0  "
      ]
     },
     "execution_count": 223,
     "metadata": {},
     "output_type": "execute_result"
    }
   ],
   "source": [
    "#Displaying the first 5 rows of the preprocessed new DataFrame\n",
    "new_data.head()"
   ]
  },
  {
   "cell_type": "code",
   "execution_count": 224,
   "id": "fa7d7c9b-7f41-481e-aa01-6425343a1ac5",
   "metadata": {},
   "outputs": [
    {
     "name": "stderr",
     "output_type": "stream",
     "text": [
      "C:\\Users\\user\\AppData\\Local\\Temp\\ipykernel_8880\\902974071.py:2: FutureWarning: ChainedAssignmentError: behaviour will change in pandas 3.0!\n",
      "You are setting values through chained assignment. Currently this works in certain cases, but when using Copy-on-Write (which will become the default behaviour in pandas 3.0) this will never work to update the original DataFrame or Series, because the intermediate object on which we are setting values will behave as a copy.\n",
      "A typical example is when you are setting values in a column of a DataFrame, like:\n",
      "\n",
      "df[\"col\"][row_indexer] = value\n",
      "\n",
      "Use `df.loc[row_indexer, \"col\"] = values` instead, to perform the assignment in a single step and ensure this keeps updating the original `df`.\n",
      "\n",
      "See the caveats in the documentation: https://pandas.pydata.org/pandas-docs/stable/user_guide/indexing.html#returning-a-view-versus-a-copy\n",
      "\n",
      "  new_data['status_type'][0]=1\n",
      "C:\\Users\\user\\AppData\\Local\\Temp\\ipykernel_8880\\902974071.py:2: SettingWithCopyWarning: \n",
      "A value is trying to be set on a copy of a slice from a DataFrame\n",
      "\n",
      "See the caveats in the documentation: https://pandas.pydata.org/pandas-docs/stable/user_guide/indexing.html#returning-a-view-versus-a-copy\n",
      "  new_data['status_type'][0]=1\n"
     ]
    }
   ],
   "source": [
    "#Assigning the value 1 to the first element of the 'status_type' column in the new DataFrame\n",
    "new_data['status_type'][0]=1"
   ]
  },
  {
   "cell_type": "code",
   "execution_count": 225,
   "id": "6eee4f3a-31cc-4004-acad-8233efe0d5cb",
   "metadata": {},
   "outputs": [
    {
     "data": {
      "text/html": [
       "<div>\n",
       "<style scoped>\n",
       "    .dataframe tbody tr th:only-of-type {\n",
       "        vertical-align: middle;\n",
       "    }\n",
       "\n",
       "    .dataframe tbody tr th {\n",
       "        vertical-align: top;\n",
       "    }\n",
       "\n",
       "    .dataframe thead th {\n",
       "        text-align: right;\n",
       "    }\n",
       "</style>\n",
       "<table border=\"1\" class=\"dataframe\">\n",
       "  <thead>\n",
       "    <tr style=\"text-align: right;\">\n",
       "      <th></th>\n",
       "      <th>status_type</th>\n",
       "      <th>num_reactions</th>\n",
       "      <th>num_comments</th>\n",
       "      <th>num_shares</th>\n",
       "      <th>num_likes</th>\n",
       "      <th>num_loves</th>\n",
       "      <th>num_wows</th>\n",
       "      <th>num_hahas</th>\n",
       "      <th>num_sads</th>\n",
       "      <th>num_angrys</th>\n",
       "    </tr>\n",
       "  </thead>\n",
       "  <tbody>\n",
       "    <tr>\n",
       "      <th>0</th>\n",
       "      <td>1</td>\n",
       "      <td>0.0</td>\n",
       "      <td>0.0</td>\n",
       "      <td>0.0</td>\n",
       "      <td>0</td>\n",
       "      <td>0.0</td>\n",
       "      <td>0.0</td>\n",
       "      <td>0.0</td>\n",
       "      <td>0</td>\n",
       "      <td>0.0</td>\n",
       "    </tr>\n",
       "  </tbody>\n",
       "</table>\n",
       "</div>"
      ],
      "text/plain": [
       "   status_type  num_reactions  num_comments  num_shares  num_likes  num_loves  \\\n",
       "0            1            0.0           0.0         0.0          0        0.0   \n",
       "\n",
       "   num_wows  num_hahas  num_sads  num_angrys  \n",
       "0       0.0        0.0         0         0.0  "
      ]
     },
     "execution_count": 225,
     "metadata": {},
     "output_type": "execute_result"
    }
   ],
   "source": [
    "#Displaying the new DataFrame\n",
    "new_data.head()"
   ]
  },
  {
   "cell_type": "code",
   "execution_count": 226,
   "id": "f68f6c8f-ac14-4119-b922-7c3cfbcab1f5",
   "metadata": {},
   "outputs": [
    {
     "data": {
      "text/plain": [
       "array([0])"
      ]
     },
     "execution_count": 226,
     "metadata": {},
     "output_type": "execute_result"
    }
   ],
   "source": [
    "#Predicting the cluster for the new data point\n",
    "kmeans.predict(new_data)"
   ]
  },
  {
   "cell_type": "code",
   "execution_count": 227,
   "id": "38ea097b-b789-48ef-8fae-22da0d77d383",
   "metadata": {},
   "outputs": [
    {
     "data": {
      "text/html": [
       "<div>\n",
       "<style scoped>\n",
       "    .dataframe tbody tr th:only-of-type {\n",
       "        vertical-align: middle;\n",
       "    }\n",
       "\n",
       "    .dataframe tbody tr th {\n",
       "        vertical-align: top;\n",
       "    }\n",
       "\n",
       "    .dataframe thead th {\n",
       "        text-align: right;\n",
       "    }\n",
       "</style>\n",
       "<table border=\"1\" class=\"dataframe\">\n",
       "  <thead>\n",
       "    <tr style=\"text-align: right;\">\n",
       "      <th></th>\n",
       "      <th>status_type</th>\n",
       "      <th>num_reactions</th>\n",
       "      <th>num_comments</th>\n",
       "      <th>num_shares</th>\n",
       "      <th>num_likes</th>\n",
       "      <th>num_loves</th>\n",
       "      <th>num_wows</th>\n",
       "      <th>num_hahas</th>\n",
       "      <th>num_sads</th>\n",
       "      <th>num_angrys</th>\n",
       "      <th>Cluster</th>\n",
       "    </tr>\n",
       "  </thead>\n",
       "  <tbody>\n",
       "    <tr>\n",
       "      <th>0</th>\n",
       "      <td>3</td>\n",
       "      <td>0.646104</td>\n",
       "      <td>0.323350</td>\n",
       "      <td>1.686879</td>\n",
       "      <td>0.482727</td>\n",
       "      <td>1.983266</td>\n",
       "      <td>0.196196</td>\n",
       "      <td>0.076713</td>\n",
       "      <td>1</td>\n",
       "      <td>0</td>\n",
       "      <td>1</td>\n",
       "    </tr>\n",
       "    <tr>\n",
       "      <th>1</th>\n",
       "      <td>1</td>\n",
       "      <td>-0.173192</td>\n",
       "      <td>-0.252206</td>\n",
       "      <td>-0.304144</td>\n",
       "      <td>-0.144720</td>\n",
       "      <td>-0.318454</td>\n",
       "      <td>-0.147879</td>\n",
       "      <td>-0.176010</td>\n",
       "      <td>0</td>\n",
       "      <td>0</td>\n",
       "      <td>0</td>\n",
       "    </tr>\n",
       "    <tr>\n",
       "      <th>2</th>\n",
       "      <td>3</td>\n",
       "      <td>-0.006738</td>\n",
       "      <td>0.013089</td>\n",
       "      <td>0.129017</td>\n",
       "      <td>-0.024571</td>\n",
       "      <td>0.206938</td>\n",
       "      <td>-0.033187</td>\n",
       "      <td>0.076713</td>\n",
       "      <td>0</td>\n",
       "      <td>0</td>\n",
       "      <td>0</td>\n",
       "    </tr>\n",
       "    <tr>\n",
       "      <th>3</th>\n",
       "      <td>1</td>\n",
       "      <td>-0.257499</td>\n",
       "      <td>-0.252206</td>\n",
       "      <td>-0.304144</td>\n",
       "      <td>-0.231495</td>\n",
       "      <td>-0.318454</td>\n",
       "      <td>-0.147879</td>\n",
       "      <td>-0.176010</td>\n",
       "      <td>0</td>\n",
       "      <td>0</td>\n",
       "      <td>0</td>\n",
       "    </tr>\n",
       "    <tr>\n",
       "      <th>4</th>\n",
       "      <td>1</td>\n",
       "      <td>-0.037003</td>\n",
       "      <td>-0.252206</td>\n",
       "      <td>-0.304144</td>\n",
       "      <td>-0.024571</td>\n",
       "      <td>-0.093286</td>\n",
       "      <td>-0.147879</td>\n",
       "      <td>-0.176010</td>\n",
       "      <td>0</td>\n",
       "      <td>0</td>\n",
       "      <td>0</td>\n",
       "    </tr>\n",
       "  </tbody>\n",
       "</table>\n",
       "</div>"
      ],
      "text/plain": [
       "   status_type  num_reactions  num_comments  num_shares  num_likes  num_loves  \\\n",
       "0            3       0.646104      0.323350    1.686879   0.482727   1.983266   \n",
       "1            1      -0.173192     -0.252206   -0.304144  -0.144720  -0.318454   \n",
       "2            3      -0.006738      0.013089    0.129017  -0.024571   0.206938   \n",
       "3            1      -0.257499     -0.252206   -0.304144  -0.231495  -0.318454   \n",
       "4            1      -0.037003     -0.252206   -0.304144  -0.024571  -0.093286   \n",
       "\n",
       "   num_wows  num_hahas  num_sads  num_angrys  Cluster  \n",
       "0  0.196196   0.076713         1           0        1  \n",
       "1 -0.147879  -0.176010         0           0        0  \n",
       "2 -0.033187   0.076713         0           0        0  \n",
       "3 -0.147879  -0.176010         0           0        0  \n",
       "4 -0.147879  -0.176010         0           0        0  "
      ]
     },
     "execution_count": 227,
     "metadata": {},
     "output_type": "execute_result"
    }
   ],
   "source": [
    "df.head()"
   ]
  },
  {
   "cell_type": "code",
   "execution_count": 228,
   "id": "5931bb98-af24-42ae-9228-c03b8e6f4a87",
   "metadata": {},
   "outputs": [],
   "source": [
    "#Saving the DataFrame to a CSV file for further analysis in Excel\n",
    "df.to_csv(\"C://Users//user//Desktop//Live_20210128_Calc.csv\")  # for analysis of cluster in excel. Open from the path you have saved. Then from original copy and paste in the created one."
   ]
  },
  {
   "cell_type": "code",
   "execution_count": 229,
   "id": "40fbc583-deda-4300-90b4-2ca50d6ebf4d",
   "metadata": {},
   "outputs": [],
   "source": [
    "#Creating a new DataFrame by dropping the 'Cluster' column from the original DataFrame\n",
    "df1=df.drop(['Cluster'],axis=1)"
   ]
  },
  {
   "cell_type": "code",
   "execution_count": 230,
   "id": "4542f7db-bf6c-41c8-b592-a4af8a2e8b1c",
   "metadata": {},
   "outputs": [
    {
     "data": {
      "image/png": "[encoded data removed]",
      "text/plain": [
       "<Figure size 640x480 with 1 Axes>"
      ]
     },
     "metadata": {},
     "output_type": "display_data"
    }
   ],
   "source": [
    "#Performing hierarchical clustering and visualizing dendrogram\n",
    "#https://docs.scipy.org/doc/scipy/reference/generated/scipy.cluster.hierarchy.linkage.html\n",
    "from scipy.cluster.hierarchy import linkage,dendrogram\n",
    "merg = linkage(df1, method = \"ward\")\n",
    "dendrogram(merg, leaf_rotation = 90)\n",
    "plt.xlabel(\"data points\")\n",
    "plt.ylabel(\"euclidean distance\")\n",
    "plt.show()"
   ]
  },
  {
   "cell_type": "code",
   "execution_count": 231,
   "id": "80bf156c-7f2f-43b0-bbd0-58fd34c4813d",
   "metadata": {},
   "outputs": [
    {
     "data": {
      "image/png": "[encoded data removed]",
      "text/plain": [
       "<Figure size 1500x1200 with 1 Axes>"
      ]
     },
     "metadata": {},
     "output_type": "display_data"
    }
   ],
   "source": [
    "#Creating a customized hierarchical clustering dendrogram with specific formatting\n",
    "import numpy as np\n",
    "from scipy.cluster.hierarchy import dendrogram, linkage\n",
    "from matplotlib import pyplot as plt\n",
    "\n",
    "linked = linkage(df1, 'ward')\n",
    "\n",
    "#labelList = [\"foo\" for i in range(0, 20)]\n",
    "\n",
    "plt.figure(figsize=(15, 12))\n",
    "dendrogram(\n",
    "            linked,\n",
    "            orientation='right',\n",
    "            #labels=labelList,\n",
    "            distance_sort='descending',\n",
    "            show_leaf_counts=False\n",
    "          )\n",
    "plt.show()"
   ]
  },
  {
   "cell_type": "code",
   "execution_count": 232,
   "id": "5246bad7-5867-47ba-971d-243ef6614d3f",
   "metadata": {},
   "outputs": [],
   "source": [
    "#Performing hierarchical clustering with 2 clusters and assigning cluster labels to the DataFrame.\n",
    "from sklearn.cluster import AgglomerativeClustering\n",
    "hc = AgglomerativeClustering(n_clusters = 2, linkage = \"ward\")\n",
    "cluster = hc.fit_predict(df1)\n",
    "df1[\"label\"] = cluster"
   ]
  },
  {
   "cell_type": "code",
   "execution_count": 233,
   "id": "444542ed-32ab-459d-b596-888b57530a78",
   "metadata": {},
   "outputs": [
    {
     "data": {
      "text/html": [
       "<div>\n",
       "<style scoped>\n",
       "    .dataframe tbody tr th:only-of-type {\n",
       "        vertical-align: middle;\n",
       "    }\n",
       "\n",
       "    .dataframe tbody tr th {\n",
       "        vertical-align: top;\n",
       "    }\n",
       "\n",
       "    .dataframe thead th {\n",
       "        text-align: right;\n",
       "    }\n",
       "</style>\n",
       "<table border=\"1\" class=\"dataframe\">\n",
       "  <thead>\n",
       "    <tr style=\"text-align: right;\">\n",
       "      <th></th>\n",
       "      <th>status_type</th>\n",
       "      <th>num_reactions</th>\n",
       "      <th>num_comments</th>\n",
       "      <th>num_shares</th>\n",
       "      <th>num_likes</th>\n",
       "      <th>num_loves</th>\n",
       "      <th>num_wows</th>\n",
       "      <th>num_hahas</th>\n",
       "      <th>num_sads</th>\n",
       "      <th>num_angrys</th>\n",
       "      <th>label</th>\n",
       "    </tr>\n",
       "  </thead>\n",
       "  <tbody>\n",
       "    <tr>\n",
       "      <th>0</th>\n",
       "      <td>3</td>\n",
       "      <td>0.646104</td>\n",
       "      <td>0.323350</td>\n",
       "      <td>1.686879</td>\n",
       "      <td>0.482727</td>\n",
       "      <td>1.983266</td>\n",
       "      <td>0.196196</td>\n",
       "      <td>0.076713</td>\n",
       "      <td>1</td>\n",
       "      <td>0</td>\n",
       "      <td>0</td>\n",
       "    </tr>\n",
       "    <tr>\n",
       "      <th>1</th>\n",
       "      <td>1</td>\n",
       "      <td>-0.173192</td>\n",
       "      <td>-0.252206</td>\n",
       "      <td>-0.304144</td>\n",
       "      <td>-0.144720</td>\n",
       "      <td>-0.318454</td>\n",
       "      <td>-0.147879</td>\n",
       "      <td>-0.176010</td>\n",
       "      <td>0</td>\n",
       "      <td>0</td>\n",
       "      <td>0</td>\n",
       "    </tr>\n",
       "    <tr>\n",
       "      <th>2</th>\n",
       "      <td>3</td>\n",
       "      <td>-0.006738</td>\n",
       "      <td>0.013089</td>\n",
       "      <td>0.129017</td>\n",
       "      <td>-0.024571</td>\n",
       "      <td>0.206938</td>\n",
       "      <td>-0.033187</td>\n",
       "      <td>0.076713</td>\n",
       "      <td>0</td>\n",
       "      <td>0</td>\n",
       "      <td>0</td>\n",
       "    </tr>\n",
       "    <tr>\n",
       "      <th>3</th>\n",
       "      <td>1</td>\n",
       "      <td>-0.257499</td>\n",
       "      <td>-0.252206</td>\n",
       "      <td>-0.304144</td>\n",
       "      <td>-0.231495</td>\n",
       "      <td>-0.318454</td>\n",
       "      <td>-0.147879</td>\n",
       "      <td>-0.176010</td>\n",
       "      <td>0</td>\n",
       "      <td>0</td>\n",
       "      <td>0</td>\n",
       "    </tr>\n",
       "    <tr>\n",
       "      <th>4</th>\n",
       "      <td>1</td>\n",
       "      <td>-0.037003</td>\n",
       "      <td>-0.252206</td>\n",
       "      <td>-0.304144</td>\n",
       "      <td>-0.024571</td>\n",
       "      <td>-0.093286</td>\n",
       "      <td>-0.147879</td>\n",
       "      <td>-0.176010</td>\n",
       "      <td>0</td>\n",
       "      <td>0</td>\n",
       "      <td>0</td>\n",
       "    </tr>\n",
       "  </tbody>\n",
       "</table>\n",
       "</div>"
      ],
      "text/plain": [
       "   status_type  num_reactions  num_comments  num_shares  num_likes  num_loves  \\\n",
       "0            3       0.646104      0.323350    1.686879   0.482727   1.983266   \n",
       "1            1      -0.173192     -0.252206   -0.304144  -0.144720  -0.318454   \n",
       "2            3      -0.006738      0.013089    0.129017  -0.024571   0.206938   \n",
       "3            1      -0.257499     -0.252206   -0.304144  -0.231495  -0.318454   \n",
       "4            1      -0.037003     -0.252206   -0.304144  -0.024571  -0.093286   \n",
       "\n",
       "   num_wows  num_hahas  num_sads  num_angrys  label  \n",
       "0  0.196196   0.076713         1           0      0  \n",
       "1 -0.147879  -0.176010         0           0      0  \n",
       "2 -0.033187   0.076713         0           0      0  \n",
       "3 -0.147879  -0.176010         0           0      0  \n",
       "4 -0.147879  -0.176010         0           0      0  "
      ]
     },
     "execution_count": 233,
     "metadata": {},
     "output_type": "execute_result"
    }
   ],
   "source": [
    "df1.head()"
   ]
  },
  {
   "cell_type": "code",
   "execution_count": 236,
   "id": "1f3c6436-72b6-4e37-8b5d-aa7befbf6cda",
   "metadata": {},
   "outputs": [
    {
     "data": {
      "text/html": [
       "<div>\n",
       "<style scoped>\n",
       "    .dataframe tbody tr th:only-of-type {\n",
       "        vertical-align: middle;\n",
       "    }\n",
       "\n",
       "    .dataframe tbody tr th {\n",
       "        vertical-align: top;\n",
       "    }\n",
       "\n",
       "    .dataframe thead th {\n",
       "        text-align: right;\n",
       "    }\n",
       "</style>\n",
       "<table border=\"1\" class=\"dataframe\">\n",
       "  <thead>\n",
       "    <tr style=\"text-align: right;\">\n",
       "      <th></th>\n",
       "      <th>status_type</th>\n",
       "      <th>num_reactions</th>\n",
       "      <th>num_comments</th>\n",
       "      <th>num_shares</th>\n",
       "      <th>num_likes</th>\n",
       "      <th>num_loves</th>\n",
       "      <th>num_wows</th>\n",
       "      <th>num_hahas</th>\n",
       "      <th>num_sads</th>\n",
       "      <th>num_angrys</th>\n",
       "      <th>Cluster</th>\n",
       "    </tr>\n",
       "  </thead>\n",
       "  <tbody>\n",
       "    <tr>\n",
       "      <th>0</th>\n",
       "      <td>3</td>\n",
       "      <td>0.646104</td>\n",
       "      <td>0.323350</td>\n",
       "      <td>1.686879</td>\n",
       "      <td>0.482727</td>\n",
       "      <td>1.983266</td>\n",
       "      <td>0.196196</td>\n",
       "      <td>0.076713</td>\n",
       "      <td>1</td>\n",
       "      <td>0</td>\n",
       "      <td>1</td>\n",
       "    </tr>\n",
       "    <tr>\n",
       "      <th>1</th>\n",
       "      <td>1</td>\n",
       "      <td>-0.173192</td>\n",
       "      <td>-0.252206</td>\n",
       "      <td>-0.304144</td>\n",
       "      <td>-0.144720</td>\n",
       "      <td>-0.318454</td>\n",
       "      <td>-0.147879</td>\n",
       "      <td>-0.176010</td>\n",
       "      <td>0</td>\n",
       "      <td>0</td>\n",
       "      <td>0</td>\n",
       "    </tr>\n",
       "    <tr>\n",
       "      <th>2</th>\n",
       "      <td>3</td>\n",
       "      <td>-0.006738</td>\n",
       "      <td>0.013089</td>\n",
       "      <td>0.129017</td>\n",
       "      <td>-0.024571</td>\n",
       "      <td>0.206938</td>\n",
       "      <td>-0.033187</td>\n",
       "      <td>0.076713</td>\n",
       "      <td>0</td>\n",
       "      <td>0</td>\n",
       "      <td>0</td>\n",
       "    </tr>\n",
       "    <tr>\n",
       "      <th>3</th>\n",
       "      <td>1</td>\n",
       "      <td>-0.257499</td>\n",
       "      <td>-0.252206</td>\n",
       "      <td>-0.304144</td>\n",
       "      <td>-0.231495</td>\n",
       "      <td>-0.318454</td>\n",
       "      <td>-0.147879</td>\n",
       "      <td>-0.176010</td>\n",
       "      <td>0</td>\n",
       "      <td>0</td>\n",
       "      <td>0</td>\n",
       "    </tr>\n",
       "    <tr>\n",
       "      <th>4</th>\n",
       "      <td>1</td>\n",
       "      <td>-0.037003</td>\n",
       "      <td>-0.252206</td>\n",
       "      <td>-0.304144</td>\n",
       "      <td>-0.024571</td>\n",
       "      <td>-0.093286</td>\n",
       "      <td>-0.147879</td>\n",
       "      <td>-0.176010</td>\n",
       "      <td>0</td>\n",
       "      <td>0</td>\n",
       "      <td>0</td>\n",
       "    </tr>\n",
       "  </tbody>\n",
       "</table>\n",
       "</div>"
      ],
      "text/plain": [
       "   status_type  num_reactions  num_comments  num_shares  num_likes  num_loves  \\\n",
       "0            3       0.646104      0.323350    1.686879   0.482727   1.983266   \n",
       "1            1      -0.173192     -0.252206   -0.304144  -0.144720  -0.318454   \n",
       "2            3      -0.006738      0.013089    0.129017  -0.024571   0.206938   \n",
       "3            1      -0.257499     -0.252206   -0.304144  -0.231495  -0.318454   \n",
       "4            1      -0.037003     -0.252206   -0.304144  -0.024571  -0.093286   \n",
       "\n",
       "   num_wows  num_hahas  num_sads  num_angrys  Cluster  \n",
       "0  0.196196   0.076713         1           0        1  \n",
       "1 -0.147879  -0.176010         0           0        0  \n",
       "2 -0.033187   0.076713         0           0        0  \n",
       "3 -0.147879  -0.176010         0           0        0  \n",
       "4 -0.147879  -0.176010         0           0        0  "
      ]
     },
     "execution_count": 236,
     "metadata": {},
     "output_type": "execute_result"
    }
   ],
   "source": [
    "df.head()"
   ]
  },
  {
   "cell_type": "code",
   "execution_count": 235,
   "id": "93e751c6-1a32-4953-8027-76753a435517",
   "metadata": {},
   "outputs": [
    {
     "data": {
      "text/plain": [
       "'\\nInterpretation-\\nThe clustering analysis identified two distinct clusters within the dataset:\\nCluster 0: Encompasses a substantial majority of the data points (6444 out of 7050), representing the predominant pattern of engagement.\\nThis group had most of the posts.People generally liked, reacted, and shared these posts.There were not many angry or sad reactions.\\nCluster 1: Represents a smaller segment of the data (606 out of 7050), indicating a distinct engagement behavior that deviates from the norm.\\nThis group had fewer posts.People talked about these posts a lot (lots of comments).There were more shares compared to the first group.\\nPeople had strong feelings about these posts (more likes, loves, wows, but also more angry and sad reactions).\\n'"
      ]
     },
     "execution_count": 235,
     "metadata": {},
     "output_type": "execute_result"
    }
   ],
   "source": [
    "'''\n",
    "Interpretation-\n",
    "The clustering analysis identified two distinct clusters within the dataset:\n",
    "Cluster 0: Encompasses a substantial majority of the data points (6444 out of 7050), representing the predominant pattern of engagement.\n",
    "The provided maximum and minimum values for various engagement metrics offer insights into the characteristics of this cluster.\n",
    "\n",
    "1. num_reactions\n",
    "Maximum: 1668, which indicates that the most highly engaged post in Cluster 0 received 1668 reactions, which is lower than the maximum in Cluster 1.\n",
    "Minimum: 0, which indicates that there are posts in Cluster 0 that received no reactions, suggesting they were less engaging or less visible to users.\n",
    "\n",
    "2. num_comments\n",
    "Maximum: 3863, which implies that the most commented-upon post in Cluster 0 generated 3863 comments, indicating a moderate level of \n",
    "discussion and engagement.\n",
    "Minimum: 0, which implies that there are posts that received no comments, possibly due to various reasons such as being very\n",
    "recent or having a less engaging topic.\n",
    "\n",
    "3. num_shares\n",
    "Maximum: 496, which implies that the most shared post in Cluster 0 was shared 496 times, suggesting it was moderately disseminated among users.\n",
    "Minimum: 0, which implies that there are posts that were not shared at all, potentially due to lack of interest or relevance.\n",
    "\n",
    "4. num_likes\n",
    "Maximum: 1668, which implies that the post with the most likes in Cluster 0 received 1668 likes, indicating a generally positive sentiment from users.\n",
    "Minimum: 0, which implies that there are posts that received no likes, suggesting they were not well-received by users.\n",
    "\n",
    "5. num_loves\n",
    "Maximum: 159, which implies that the post that received the most love reactions had 159 love reactions, suggesting a moderate\n",
    "level of affection or appreciation.\n",
    "Minimum: 0, which implies that some posts did not receive any love reactions.\n",
    "\n",
    "6. num_wows\n",
    "Maximum: 38, which implies that the post with the most wow reactions had 38 wow reactions, suggesting it was moderately \n",
    "impressive or astonishing to users.\n",
    "Minimum: 0, which implies that some posts did not receive any wow reactions.\n",
    "\n",
    "7.num_hahas\n",
    "Maximum: 32, which implies that the post that received the most haha reactions had 32 haha reactions, indicating a moderately \n",
    "humorous or amusing nature.\n",
    "Minimum: 0, which implies that some posts did not receive any haha reactions.\n",
    "\n",
    "8. num_sads\n",
    "Maximum: 8, which implies that the post with the most sad reactions had 8 sad reactions, suggesting it was emotionally \n",
    "impactful or evoked feelings of sadness, but to a lesser extent than posts in Cluster 1.\n",
    "Minimum: 0, which implies that some posts did not receive any sad reactions.\n",
    "\n",
    "9. num_angrys\n",
    "Maximum: 12, which implies that the post with the most angry reactions had 12 angry reactions, indicating it was perceived as \n",
    "negative or offensive, but to a lesser extent than posts in Cluster 1.\n",
    "Minimum: 0, which implies that some posts did not receive any angry reactions.\n",
    "\n",
    "Overall, Cluster 0 is characterized by content that receives moderate levels of engagement and primarily elicits positive emotions.\n",
    "While there are outliers with zero reactions or comments, the overall trend suggests that content in this cluster is generally well-received\n",
    "but not as widely discussed or shared as content in Cluster 1.\n",
    "\n",
    "\n",
    "Cluster 1: Represents a smaller segment of the data (606 out of 7050), indicating a distinct engagement behavior that deviates from the norm.\n",
    "The provided maximum and minimum values for various engagement metrics offer insights into the characteristics of this cluster.\n",
    "\n",
    "1. num_reactions\n",
    "Maximum: 4710, which indicates that the most highly engaged post in Cluster 1 received 4710 reactions.\n",
    "Minimum: 55, which suggests that even the least engaged post in Cluster 1 still received a significant number of reactions (55).\n",
    "\n",
    "2. num_comments\n",
    "Maximum: 20990, which implies that the most commented-upon post in Cluster 1 generated 20990 comments, indicating a high \n",
    "level of discussion and engagement.\n",
    "Minimum: 0, which implies that there are posts in Cluster 1 that received no comments, possibly due to various reasons \n",
    "such as being very recent or having a less engaging topic.\n",
    "\n",
    "3. num_shares\n",
    "Maximum: 3424, whic means that the most shared post in Cluster 1 was shared 3424 times, suggesting it was widely disseminated among users.\n",
    "Minimum: 0, which implies that there are posts that were not shared at all, potentially due to lack of interest or relevance.\n",
    "\n",
    "4. num_likes\n",
    "Maximum: 4710, which implies that the post with the most likes in Cluster 1 received 4710 likes, indicating strong positive sentiment from users.\n",
    "Minimum: 41, which implies that even the least liked post in Cluster 1 received 41 likes, suggesting a generally positive reception.\n",
    "\n",
    "5. num_loves\n",
    "Maximum: 657, which implies that the post that received the most love reactions had 657 love reactions, indicating a high \n",
    "level of affection or appreciation.\n",
    "Minimum: 0, which implies that some posts did not receive any love reactions, possibly due to the nature of the content or user preferences.\n",
    "\n",
    "6. num_wows\n",
    "Maximum: 278, which implies that the post with the most wow reactions had 278 wow reactions, suggesting it was particularly\n",
    "impressive or astonishing to users.\n",
    "Minimum: 0, which implies that some posts did not receive any wow reactions.\n",
    "\n",
    "7. num_hahas\n",
    "Maximum: 157, which implies that the post that received the most haha reactions had 157 haha reactions, indicating a humorous or amusing nature.\n",
    "Minimum: 0, which implies that some posts did not receive any haha reactions.\n",
    "\n",
    "8. num_sads\n",
    "Maximum: 51, which implies that the post with the most sad reactions had 51 sad reactions, suggesting it was emotionally \n",
    "impactful or evoked feelings of sadness.\n",
    "Minimum: 0, which implies that some posts did not receive any sad reactions.\n",
    "\n",
    "9. num_angrys\n",
    "Maximum: 31, which implies that the post with the most angry reactions had 31 angry reactions, indicating it was perceived as negative or offensive.\n",
    "Minimum: 0, which implies that some posts did not receive any angry reactions.\n",
    "\n",
    "Overall, Cluster 1 is characterized by highly engaged content that elicits a variety of reactions, from positive emotions\n",
    "like likes and loves to negative ones like sads and angrys. The presence of outliers (posts with zero reactions or comments) suggests\n",
    "that the cluster might be influenced by a few extreme cases. Further analysis of the content and user demographics within this\n",
    "cluster could provide additional insights into the factors driving engagement and sentiment.\n",
    "\n",
    "Thus,  Cluster 0 represents the majority of the data points and is characterized by moderate engagement levels and primarily \n",
    "positive sentiment. Content in this cluster is generally well-received but not as widely discussed or shared. Cluster 1, on the \n",
    "other hand, represents a smaller segment of the data and is characterized by high levels of engagement and a wider range of emotions. \n",
    "Content in this cluster is more likely to be discussed, shared, and elicit both positive and negative reactions.\n",
    "\n",
    "'''"
   ]
  }
 ],
 "metadata": {
  "kernelspec": {
   "display_name": "Python 3 (ipykernel)",
   "language": "python",
   "name": "python3"
  },
  "language_info": {
   "codemirror_mode": {
    "name": "ipython",
    "version": 3
   },
   "file_extension": ".py",
   "mimetype": "text/x-python",
   "name": "python",
   "nbconvert_exporter": "python",
   "pygments_lexer": "ipython3",
   "version": "3.12.4"
  }
 },
 "nbformat": 4,
 "nbformat_minor": 5
}
